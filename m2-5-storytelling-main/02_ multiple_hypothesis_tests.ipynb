{
 "cells": [
  {
   "cell_type": "markdown",
   "metadata": {},
   "source": [
    "This lecture is a pile of bad studies showing common pitfalls in statistics.\n",
    "\n",
    "\n",
    "# Multiple hypothesis testing\n",
    "\n",
    "Normally when we do a statistical test:\n",
    "\n",
    "- We collect data for a statistical sample\n",
    "\n",
    "- We choose a test setup\n",
    "\n",
    "- The test result returns us a probability that the result would be incorrect by bad luck of statistical sampling **(p-value)**\n",
    "\n",
    "These assumptions break if you test a multitude of hypotheses on a single sample! As shown in this XKCD comic:\n",
    "\n",
    "![](https://imgs.xkcd.com/comics/significant.png)\n",
    "\n",
    "If your p-value threshold is 0.05 (so 1/20 chance of false positive result) then if you run the same test 20 times you can get a positive result! This practice is called [p-hacking](https://stats.stackexchange.com/questions/200745/how-much-do-we-know-about-p-hacking-in-the-wild) and is super common in published articles.\n",
    "\n",
    "[Studies need replication](https://en.wikipedia.org/wiki/Replication_crisis) and you should neveer trust a single study with a new, weird result. Here's a terrifying chart making the point: the common threshold for \"statistically significant\" is 0.05, and there's a bump in the distribution of reported p-values right at that number.\n",
    "\n",
    "![](bad_science_no_cookie.png)\n",
    "\n",
    "Let's look at an example of it in the wild:"
   ]
  },
  {
   "cell_type": "markdown",
   "metadata": {},
   "source": [
    "# Coffee makes you a psychopath\n",
    "\n",
    "Reader's Digest recently put out [an article][1] which begins confidently:\n",
    "\n",
    "> Do you prefer your morning joe sans cream and sugar? A new study says you're probably a psychopath with sadistic tendencies.\n",
    "It's your typical \"every study in pop psychology is literally true!\" clickbait. You would think we would know better since the [replication crisis][2] is several years in the making at this point, and started with exactly these kinds of studies.\n",
    "\n",
    "The [original paper][3] isn't quite as confident, concluding that:\n",
    "\n",
    "> The present research has demonstrated that bitter taste preferences are associated with more pronounced malevolent personality traits, especially robustly with everyday sadism.\n",
    "Let's see what the study itself has to say about it.\n",
    "\n",
    "The study tests 10 different personality characteristics on 10 different coffee preferences, which we can see in table 1, pp.39:\n",
    "\n",
    "![](table1.png)\n",
    "\n",
    "If you count, this is 168 comparisons (AKA theories being tested) on n=953 data points. Odds are you're going to find **something** to write clickbait about if your \"statistically significant\" threshold is the classic 5% or 1% p-value.\n",
    "\n",
    "\n",
    "## The Fix: Bonferonni correction\n",
    "\n",
    "If you must do multiple hypothesis tests, there is something you can do called a [Bonferonni correction][4] to properly test multiple theories on one dataset.\n",
    "\n",
    " [1]: https://www.rd.com/food/fun/coffee-black-psychopath-study/\n",
    " [2]: https://en.wikipedia.org/wiki/Replication_crisis\n",
    " [3]: http://emilkirkegaard.dk/en/wp-content/uploads/Individual-differences-in-bitter-taste-preferences-are-associated-with-antisocial-personality-traits.pdf\n",
    " [4]: https://en.wikipedia.org/wiki/Bonferroni_correction"
   ]
  },
  {
   "cell_type": "code",
   "execution_count": null,
   "metadata": {},
   "outputs": [],
   "source": []
  }
 ],
 "metadata": {
  "kernelspec": {
   "display_name": "Python 3",
   "language": "python",
   "name": "python3"
  },
  "language_info": {
   "codemirror_mode": {
    "name": "ipython",
    "version": 3
   },
   "file_extension": ".py",
   "mimetype": "text/x-python",
   "name": "python",
   "nbconvert_exporter": "python",
   "pygments_lexer": "ipython3",
   "version": "3.8.3"
  }
 },
 "nbformat": 4,
 "nbformat_minor": 4
}
